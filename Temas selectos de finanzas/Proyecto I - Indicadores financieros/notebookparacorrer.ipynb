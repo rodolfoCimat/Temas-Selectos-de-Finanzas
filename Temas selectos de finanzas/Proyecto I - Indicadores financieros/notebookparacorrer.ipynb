{
 "cells": [
  {
   "cell_type": "code",
   "execution_count": 1,
   "metadata": {},
   "outputs": [],
   "source": [
    "import AlgoTrade5 as at"
   ]
  },
  {
   "cell_type": "markdown",
   "metadata": {},
   "source": [
    "¡IMPORTANTE!\n",
    "\n",
    "Hemos cargado la librería para su comodidad, y hemos puesto las funciones de la misma para que usted solo tenga que correrlas. Esperamos que sea de su agrado nuestro trabajo. La librería tarda en cargar un poco, al igual que la primera función que corra de la misma. Como le fue detallado en el documento PDF anexo a este trabajo, antes de correr el código  en esta Jupyter Notebook deberá guardar el documento \"AlgoTrade5.py\" en su carpeta lib, que se encuentra dentro de la carpeta anaconda.\n",
    "Por último cabe mencionar que al correr cualquiera de las siguientes funciones se abrirá una ventana emergente para que usted pueda seleccionar desde la comodidad de su escritorio el csv que desea analizar, en ocasiones dicha ventana emergente no se despliega, pero podrá encontrarla minimizada en el navegador en el que tenga abierta esta Jupyter notebook.\n",
    "\n",
    "Nota: Para ver el desarrollo del código de las funciones, se puede consultar el documento \"AlgoTrade.ipynb\""
   ]
  },
  {
   "cell_type": "markdown",
   "metadata": {},
   "source": [
    "1. ROC (Oscilador de Momentum)."
   ]
  },
  {
   "cell_type": "code",
   "execution_count": null,
   "metadata": {},
   "outputs": [],
   "source": [
    "at.ROC()"
   ]
  },
  {
   "cell_type": "markdown",
   "metadata": {},
   "source": [
    "2. RSI."
   ]
  },
  {
   "cell_type": "code",
   "execution_count": null,
   "metadata": {},
   "outputs": [],
   "source": [
    "at.RSI()"
   ]
  },
  {
   "cell_type": "markdown",
   "metadata": {},
   "source": [
    "3. Oscilador estocástico."
   ]
  },
  {
   "cell_type": "code",
   "execution_count": null,
   "metadata": {},
   "outputs": [],
   "source": [
    "at.SO()"
   ]
  },
  {
   "cell_type": "markdown",
   "metadata": {},
   "source": [
    "4. Medias moviles."
   ]
  },
  {
   "cell_type": "code",
   "execution_count": null,
   "metadata": {},
   "outputs": [],
   "source": [
    "at.Mmov()"
   ]
  },
  {
   "cell_type": "markdown",
   "metadata": {},
   "source": [
    "5. Bandas de Bollinger."
   ]
  },
  {
   "cell_type": "code",
   "execution_count": null,
   "metadata": {},
   "outputs": [],
   "source": [
    "at.BB()"
   ]
  },
  {
   "cell_type": "markdown",
   "metadata": {},
   "source": [
    "6. Fondos dobles/triples/.../múltiples."
   ]
  },
  {
   "cell_type": "code",
   "execution_count": null,
   "metadata": {},
   "outputs": [],
   "source": [
    "at.bottoms()"
   ]
  },
  {
   "cell_type": "markdown",
   "metadata": {},
   "source": [
    "7. Techos dobles/triples/.../múltiples."
   ]
  },
  {
   "cell_type": "code",
   "execution_count": null,
   "metadata": {},
   "outputs": [],
   "source": [
    "at.tops()"
   ]
  },
  {
   "cell_type": "markdown",
   "metadata": {},
   "source": [
    "8. Head and shoulders (inversos y normales)."
   ]
  },
  {
   "cell_type": "code",
   "execution_count": null,
   "metadata": {},
   "outputs": [],
   "source": [
    "at.HandS()"
   ]
  },
  {
   "cell_type": "markdown",
   "metadata": {},
   "source": [
    "9. Patrones triángulares."
   ]
  },
  {
   "cell_type": "code",
   "execution_count": null,
   "metadata": {},
   "outputs": [],
   "source": [
    "at.Triang()"
   ]
  },
  {
   "cell_type": "markdown",
   "metadata": {},
   "source": [
    "10. Precios de soporte y resistencia."
   ]
  },
  {
   "cell_type": "code",
   "execution_count": null,
   "metadata": {},
   "outputs": [],
   "source": [
    "at.PPSR()"
   ]
  }
 ],
 "metadata": {
  "kernelspec": {
   "display_name": "Python 3",
   "language": "python",
   "name": "python3"
  },
  "language_info": {
   "codemirror_mode": {
    "name": "ipython",
    "version": 3
   },
   "file_extension": ".py",
   "mimetype": "text/x-python",
   "name": "python",
   "nbconvert_exporter": "python",
   "pygments_lexer": "ipython3",
   "version": "3.7.6"
  }
 },
 "nbformat": 4,
 "nbformat_minor": 4
}
